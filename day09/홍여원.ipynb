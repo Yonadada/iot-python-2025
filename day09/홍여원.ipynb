{
 "cells": [
  {
   "cell_type": "markdown",
   "metadata": {},
   "source": [
    "# 1. "
   ]
  },
  {
   "cell_type": "code",
   "execution_count": null,
   "metadata": {},
   "outputs": [
    {
     "data": {
      "text/plain": [
       "원의 넓이는 : 6.28\n"
      ]
     },
     "metadata": {},
     "output_type": "display_data"
    }
   ],
   "source": [
    "\n",
    "\n",
    "import math\n",
    "\n",
    "num = input(f'원의 반지름 값을 입력해주세요 >')\n",
    "\n",
    "num = int(num)\n",
    "\n",
    "circle= math.sqrt(num) * math.pi\n",
    "\n",
    "print(f'원의 넓이는 : {circle:>.2f}')"
   ]
  },
  {
   "cell_type": "markdown",
   "metadata": {},
   "source": [
    "# 2.\n"
   ]
  },
  {
   "cell_type": "code",
   "execution_count": null,
   "metadata": {},
   "outputs": [
    {
     "data": {
      "text/plain": [
       "www.daum.net 이동중\n"
      ]
     },
     "metadata": {},
     "output_type": "display_data"
    }
   ],
   "source": [
    "def get_url(url):\n",
    "    url = ['www.google.com','www.naver.com','www.daum.net']\n",
    "    if name == 'google':\n",
    "        return print(f'{url[0]} 이동중')\n",
    "\n",
    "    elif name == 'naver':\n",
    "        return print(f'{url[1]} 이동중')\n",
    "    elif name == 'daum':\n",
    "        return print(f'{url[2]} 이동중')\n",
    "    else :\n",
    "        print('해당 페이지 추후 업데이트 예정')\n",
    "\n",
    "\n",
    "\n",
    "name = input(f'방문하고자하는 사이트 이름을 영문으로 입력해주세요 > ').lower()\n",
    "get_url(name)\n"
   ]
  },
  {
   "cell_type": "markdown",
   "metadata": {},
   "source": [
    "# 3 "
   ]
  },
  {
   "cell_type": "code",
   "execution_count": null,
   "metadata": {},
   "outputs": [
    {
     "data": {
      "text/plain": [
       "\n",
       "1단 시작\n",
       "\n",
       "1 x 1 = 1\t1 x 2 = 2\t1 x 3 = 3\t1 x 4 = 4\t1 x 5 = 5\t1 x 6 = 6\t1 x 7 = 7\t1 x 8 = 8\t1 x 9 = 9\t\n",
       "\n",
       "2단 시작\n",
       "\n",
       "2 x 1 = 2\t2 x 2 = 4\t2 x 3 = 6\t2 x 4 = 8\t2 x 5 = 10\t2 x 6 = 12\t2 x 7 = 14\t2 x 8 = 16\t2 x 9 = 18\t\n",
       "\n",
       "3단 시작\n",
       "\n",
       "3 x 1 = 3\t3 x 2 = 6\t3 x 3 = 9\t3 x 4 = 12\t3 x 5 = 15\t3 x 6 = 18\t3 x 7 = 21\t3 x 8 = 24\t3 x 9 = 27\t\n",
       "\n",
       "4단 시작\n",
       "\n",
       "4 x 1 = 4\t4 x 2 = 8\t4 x 3 = 12\t4 x 4 = 16\t4 x 5 = 20\t4 x 6 = 24\t4 x 7 = 28\t4 x 8 = 32\t4 x 9 = 36\t\n",
       "\n",
       "5단 시작\n",
       "\n",
       "5 x 1 = 5\t5 x 2 = 10\t5 x 3 = 15\t5 x 4 = 20\t5 x 5 = 25\t5 x 6 = 30\t5 x 7 = 35\t5 x 8 = 40\t5 x 9 = 45\t\n",
       "\n",
       "6단 시작\n",
       "\n",
       "6 x 1 = 6\t6 x 2 = 12\t6 x 3 = 18\t6 x 4 = 24\t6 x 5 = 30\t6 x 6 = 36\t6 x 7 = 42\t6 x 8 = 48\t6 x 9 = 54\t\n",
       "\n",
       "7단 시작\n",
       "\n",
       "7 x 1 = 7\t7 x 2 = 14\t7 x 3 = 21\t7 x 4 = 28\t7 x 5 = 35\t7 x 6 = 42\t7 x 7 = 49\t7 x 8 = 56\t7 x 9 = 63\t\n",
       "\n",
       "8단 시작\n",
       "\n",
       "8 x 1 = 8\t8 x 2 = 16\t8 x 3 = 24\t8 x 4 = 32\t8 x 5 = 40\t8 x 6 = 48\t8 x 7 = 56\t8 x 8 = 64\t8 x 9 = 72\t\n",
       "\n",
       "9단 시작\n",
       "\n",
       "9 x 1 = 9\t9 x 2 = 18\t9 x 3 = 27\t9 x 4 = 36\t9 x 5 = 45\t9 x 6 = 54\t9 x 7 = 63\t9 x 8 = 72\t9 x 9 = 81\t\n"
      ]
     },
     "metadata": {},
     "output_type": "display_data"
    }
   ],
   "source": [
    "for i in range(1,9+1):\n",
    "    print()\n",
    "    print(f'{i}단 시작\\n')\n",
    "    for j in range(1,10):\n",
    "        print(f'{i} x {j} = {i*j}\\t',end='')\n",
    "    print()\n",
    "    "
   ]
  },
  {
   "cell_type": "markdown",
   "metadata": {},
   "source": [
    "# 4"
   ]
  },
  {
   "cell_type": "code",
   "execution_count": null,
   "metadata": {},
   "outputs": [
    {
     "data": {
      "text/plain": [
       "['4', '2', '1']\n"
      ]
     },
     "metadata": {},
     "output_type": "display_data"
    }
   ],
   "source": [
    "# list 함수\n",
    "def list(n):\n",
    "    # print(f'결과는 : {n[-4:]}',end='')\n",
    "    n.reverse()\n",
    "    print(n)\n",
    "\n",
    "number = input('입력하고 싶은 수를 기입하세요 > ').split(' ')\n",
    "\n",
    "list(number)"
   ]
  },
  {
   "cell_type": "markdown",
   "metadata": {},
   "source": [
    "# 5"
   ]
  },
  {
   "cell_type": "code",
   "execution_count": null,
   "metadata": {},
   "outputs": [
    {
     "data": {
      "text/plain": [
       "핸드폰 주인: 먀먀\n",
       "핸드폰 번호: 010-1234-5689\n",
       "브랜드: 삼숭\n"
      ]
     },
     "metadata": {},
     "output_type": "display_data"
    }
   ],
   "source": [
    "class SmartPhone:\n",
    "    \n",
    "    def __init__(self, phoneOwner, phoneNumber, company):\n",
    "        self.__phoneOwner = phoneOwner\n",
    "        self.__phoneNumber = phoneNumber\n",
    "        self.__company = company\n",
    "        \n",
    "        \n",
    "    def __str__(self):\n",
    "        str_res = (f'핸드폰 주인: {self.__phoneOwner}\\n'\n",
    "                f'핸드폰 번호: {self.__phoneNumber}\\n'\n",
    "                f'브랜드: {self.__company}')\n",
    "        return str_res\n",
    "    \n",
    "    def set_phoneOwner(self, phoneOwner):\n",
    "        self.__phoneOwner = phoneOwner\n",
    "    \n",
    "\n",
    "    def set_phoneNumber(self, phoneNumber = '010-0000-0000'):\n",
    "        self.__phoneNumber = phoneNumber\n",
    "        \n",
    "    def set_company(self, company):\n",
    "        self.__company = company\n",
    "        \n",
    "        \n",
    "myPhone = SmartPhone('홍여원','010-4644-5683','엘지')\n",
    "phoneNumber = input('정보를 입력하세요 ')\n",
    "\n",
    "myPhone.set_phoneNumber(phoneNumber)\n",
    "myPhone.set_phoneOwner('먀먀')\n",
    "myPhone.set_company('삼숭')\n",
    "\n",
    "\n",
    "print(myPhone)  "
   ]
  },
  {
   "cell_type": "markdown",
   "metadata": {},
   "source": [
    "# 6 깃허브 주소"
   ]
  },
  {
   "cell_type": "markdown",
   "metadata": {},
   "source": [
    "https://github.com/Yonadada"
   ]
  }
 ],
 "metadata": {
  "language_info": {
   "name": "python"
  }
 },
 "nbformat": 4,
 "nbformat_minor": 2
}
